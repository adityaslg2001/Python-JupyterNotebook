{
 "cells": [
  {
   "cell_type": "code",
   "execution_count": 2,
   "id": "adc5ed75-4f37-45aa-ad4b-7f8b54ae7ec1",
   "metadata": {},
   "outputs": [],
   "source": [
    "import pandas as pd"
   ]
  },
  {
   "cell_type": "code",
   "execution_count": 3,
   "id": "73e56c91-e1b5-4374-85d2-0068e752c68f",
   "metadata": {},
   "outputs": [
    {
     "data": {
      "text/plain": [
       "0    1\n",
       "1    2\n",
       "2    3\n",
       "dtype: int64"
      ]
     },
     "execution_count": 3,
     "metadata": {},
     "output_type": "execute_result"
    }
   ],
   "source": [
    "s1 = pd.Series([1,2,3,4,5])\n",
    "s1"
   ]
  },
  {
   "cell_type": "code",
   "execution_count": 4,
   "id": "2f5030fc-b211-41ba-990a-57c2d37ade31",
   "metadata": {},
   "outputs": [
    {
     "data": {
      "text/plain": [
       "pandas.core.series.Series"
      ]
     },
     "execution_count": 4,
     "metadata": {},
     "output_type": "execute_result"
    }
   ],
   "source": [
    "type (s1)"
   ]
  },
  {
   "cell_type": "code",
   "execution_count": 12,
   "id": "cbb75cda-b7c8-4ed4-a120-26e8391166ec",
   "metadata": {},
   "outputs": [
    {
     "data": {
      "text/plain": [
       "a    100\n",
       "b    200\n",
       "c    300\n",
       "d    400\n",
       "e    500\n",
       "dtype: int64"
      ]
     },
     "execution_count": 12,
     "metadata": {},
     "output_type": "execute_result"
    }
   ],
   "source": [
    "# Series object from lists\n",
    "s2 = pd.Series([100,200,300,400,500],index=['a','b','c','d','e'])\n",
    "s2"
   ]
  },
  {
   "cell_type": "code",
   "execution_count": 13,
   "id": "c67bf4ec-0ad3-4817-b287-edddd4ab43be",
   "metadata": {},
   "outputs": [
    {
     "data": {
      "text/plain": [
       "a    100\n",
       "b    200\n",
       "c    300\n",
       "dtype: int64"
      ]
     },
     "execution_count": 13,
     "metadata": {},
     "output_type": "execute_result"
    }
   ],
   "source": [
    "# Series object from dictionary\n",
    "s3 = pd.Series({'a':100,'b':200,'c':300})\n",
    "s3"
   ]
  },
  {
   "cell_type": "code",
   "execution_count": 15,
   "id": "c1c0196b-f901-4087-a97f-23db4ae22e85",
   "metadata": {},
   "outputs": [
    {
     "data": {
      "text/plain": [
       "1    20.0\n",
       "2    20.0\n",
       "3    60.0\n",
       "4     NaN\n",
       "dtype: float64"
      ]
     },
     "execution_count": 15,
     "metadata": {},
     "output_type": "execute_result"
    }
   ],
   "source": [
    "s4 = pd.Series({1:20,2:20,3:60},index={1,2,3,4})\n",
    "s4"
   ]
  },
  {
   "cell_type": "code",
   "execution_count": 17,
   "id": "bce9ab02-6872-4da9-96c1-47a516db8fc9",
   "metadata": {},
   "outputs": [],
   "source": [
    "# Extracting individual elements\n",
    "\n",
    "s5 = pd.Series([1,2,3,4,5,6,7,8,9])\n"
   ]
  },
  {
   "cell_type": "code",
   "execution_count": 18,
   "id": "f2307cdf-77ce-44c4-b9d7-fe11e533252f",
   "metadata": {},
   "outputs": [
    {
     "data": {
      "text/plain": [
       "np.int64(8)"
      ]
     },
     "execution_count": 18,
     "metadata": {},
     "output_type": "execute_result"
    }
   ],
   "source": [
    "s5[7]"
   ]
  },
  {
   "cell_type": "code",
   "execution_count": 19,
   "id": "0683ee46-27e4-485e-8dca-7bae28e4f2b7",
   "metadata": {},
   "outputs": [
    {
     "data": {
      "text/plain": [
       "0    1\n",
       "1    2\n",
       "2    3\n",
       "3    4\n",
       "4    5\n",
       "5    6\n",
       "6    7\n",
       "dtype: int64"
      ]
     },
     "execution_count": 19,
     "metadata": {},
     "output_type": "execute_result"
    }
   ],
   "source": [
    "s5[:7] #7 elements from start"
   ]
  },
  {
   "cell_type": "code",
   "execution_count": 21,
   "id": "df0432d4-a8cb-4bd0-867b-ce0e6495191b",
   "metadata": {},
   "outputs": [
    {
     "data": {
      "text/plain": [
       "6    7\n",
       "7    8\n",
       "8    9\n",
       "dtype: int64"
      ]
     },
     "execution_count": 21,
     "metadata": {},
     "output_type": "execute_result"
    }
   ],
   "source": [
    "s5[-3:] #3 elements from end"
   ]
  },
  {
   "cell_type": "code",
   "execution_count": 22,
   "id": "d8715279-f432-419a-8edc-df394a7353ee",
   "metadata": {},
   "outputs": [
    {
     "data": {
      "text/plain": [
       "0    91\n",
       "1    92\n",
       "2    93\n",
       "dtype: int64"
      ]
     },
     "execution_count": 22,
     "metadata": {},
     "output_type": "execute_result"
    }
   ],
   "source": [
    "# Sum\n",
    "\n",
    "s1+90"
   ]
  },
  {
   "cell_type": "code",
   "execution_count": 24,
   "id": "cd868c4f-0011-41ea-a3dd-20a2517373ba",
   "metadata": {},
   "outputs": [
    {
     "data": {
      "text/plain": [
       "0     97\n",
       "1     99\n",
       "2    101\n",
       "dtype: int64"
      ]
     },
     "execution_count": 24,
     "metadata": {},
     "output_type": "execute_result"
    }
   ],
   "source": [
    "s2 = pd.Series([6,7,8])\n",
    "\n",
    "s1+s2+90"
   ]
  },
  {
   "cell_type": "code",
   "execution_count": null,
   "id": "1a233b72-5109-4e0b-9e13-c5e1632ea8df",
   "metadata": {},
   "outputs": [],
   "source": [
    "# Pandas Dataframe : 2-D labelled data-structure"
   ]
  },
  {
   "cell_type": "code",
   "execution_count": 26,
   "id": "4539cdaf-27c8-4bdb-bceb-f0a7d57d307e",
   "metadata": {},
   "outputs": [],
   "source": [
    "df1 = pd.DataFrame({'Name':['Aditya Singh','Ritish Dubey','Binoy Sikdar'],\n",
    "                    'Marks':[100,99,100],\n",
    "                    'Age':[19,19,18]\n",
    "                   })"
   ]
  },
  {
   "cell_type": "code",
   "execution_count": 27,
   "id": "fc16b475-fd3b-4668-841f-7c3d26c19a06",
   "metadata": {},
   "outputs": [
    {
     "data": {
      "text/html": [
       "<div>\n",
       "<style scoped>\n",
       "    .dataframe tbody tr th:only-of-type {\n",
       "        vertical-align: middle;\n",
       "    }\n",
       "\n",
       "    .dataframe tbody tr th {\n",
       "        vertical-align: top;\n",
       "    }\n",
       "\n",
       "    .dataframe thead th {\n",
       "        text-align: right;\n",
       "    }\n",
       "</style>\n",
       "<table border=\"1\" class=\"dataframe\">\n",
       "  <thead>\n",
       "    <tr style=\"text-align: right;\">\n",
       "      <th></th>\n",
       "      <th>Name</th>\n",
       "      <th>Marks</th>\n",
       "      <th>Age</th>\n",
       "    </tr>\n",
       "  </thead>\n",
       "  <tbody>\n",
       "    <tr>\n",
       "      <th>0</th>\n",
       "      <td>Aditya Singh</td>\n",
       "      <td>100</td>\n",
       "      <td>19</td>\n",
       "    </tr>\n",
       "    <tr>\n",
       "      <th>1</th>\n",
       "      <td>Ritish Dubey</td>\n",
       "      <td>99</td>\n",
       "      <td>19</td>\n",
       "    </tr>\n",
       "    <tr>\n",
       "      <th>2</th>\n",
       "      <td>Binoy Sikdar</td>\n",
       "      <td>100</td>\n",
       "      <td>18</td>\n",
       "    </tr>\n",
       "  </tbody>\n",
       "</table>\n",
       "</div>"
      ],
      "text/plain": [
       "           Name  Marks  Age\n",
       "0  Aditya Singh    100   19\n",
       "1  Ritish Dubey     99   19\n",
       "2  Binoy Sikdar    100   18"
      ]
     },
     "execution_count": 27,
     "metadata": {},
     "output_type": "execute_result"
    }
   ],
   "source": [
    "df1"
   ]
  },
  {
   "cell_type": "code",
   "execution_count": 30,
   "id": "10e22669-3756-4152-9724-25a9fb5528fc",
   "metadata": {},
   "outputs": [],
   "source": [
    "iris = pd.read_csv('iris.csv')"
   ]
  },
  {
   "cell_type": "code",
   "execution_count": 31,
   "id": "260e813d-9d69-458d-9317-b0802000e169",
   "metadata": {},
   "outputs": [
    {
     "data": {
      "text/html": [
       "<div>\n",
       "<style scoped>\n",
       "    .dataframe tbody tr th:only-of-type {\n",
       "        vertical-align: middle;\n",
       "    }\n",
       "\n",
       "    .dataframe tbody tr th {\n",
       "        vertical-align: top;\n",
       "    }\n",
       "\n",
       "    .dataframe thead th {\n",
       "        text-align: right;\n",
       "    }\n",
       "</style>\n",
       "<table border=\"1\" class=\"dataframe\">\n",
       "  <thead>\n",
       "    <tr style=\"text-align: right;\">\n",
       "      <th></th>\n",
       "      <th>Index</th>\n",
       "      <th>Customer Id</th>\n",
       "      <th>First Name</th>\n",
       "      <th>Last Name</th>\n",
       "      <th>Company</th>\n",
       "      <th>City</th>\n",
       "      <th>Country</th>\n",
       "      <th>Phone 1</th>\n",
       "      <th>Phone 2</th>\n",
       "      <th>Email</th>\n",
       "      <th>Subscription Date</th>\n",
       "      <th>Website</th>\n",
       "    </tr>\n",
       "  </thead>\n",
       "  <tbody>\n",
       "    <tr>\n",
       "      <th>0</th>\n",
       "      <td>1</td>\n",
       "      <td>DD37Cf93aecA6Dc</td>\n",
       "      <td>Sheryl</td>\n",
       "      <td>Baxter</td>\n",
       "      <td>Rasmussen Group</td>\n",
       "      <td>East Leonard</td>\n",
       "      <td>Chile</td>\n",
       "      <td>229.077.5154</td>\n",
       "      <td>397.884.0519x718</td>\n",
       "      <td>zunigavanessa@smith.info</td>\n",
       "      <td>2020-08-24</td>\n",
       "      <td>http://www.stephenson.com/</td>\n",
       "    </tr>\n",
       "    <tr>\n",
       "      <th>1</th>\n",
       "      <td>2</td>\n",
       "      <td>1Ef7b82A4CAAD10</td>\n",
       "      <td>Preston</td>\n",
       "      <td>Lozano</td>\n",
       "      <td>Vega-Gentry</td>\n",
       "      <td>East Jimmychester</td>\n",
       "      <td>Djibouti</td>\n",
       "      <td>5153435776</td>\n",
       "      <td>686-620-1820x944</td>\n",
       "      <td>vmata@colon.com</td>\n",
       "      <td>2021-04-23</td>\n",
       "      <td>http://www.hobbs.com/</td>\n",
       "    </tr>\n",
       "    <tr>\n",
       "      <th>2</th>\n",
       "      <td>3</td>\n",
       "      <td>6F94879bDAfE5a6</td>\n",
       "      <td>Roy</td>\n",
       "      <td>Berry</td>\n",
       "      <td>Murillo-Perry</td>\n",
       "      <td>Isabelborough</td>\n",
       "      <td>Antigua and Barbuda</td>\n",
       "      <td>+1-539-402-0259</td>\n",
       "      <td>(496)978-3969x58947</td>\n",
       "      <td>beckycarr@hogan.com</td>\n",
       "      <td>2020-03-25</td>\n",
       "      <td>http://www.lawrence.com/</td>\n",
       "    </tr>\n",
       "    <tr>\n",
       "      <th>3</th>\n",
       "      <td>4</td>\n",
       "      <td>5Cef8BFA16c5e3c</td>\n",
       "      <td>Linda</td>\n",
       "      <td>Olsen</td>\n",
       "      <td>Dominguez, Mcmillan and Donovan</td>\n",
       "      <td>Bensonview</td>\n",
       "      <td>Dominican Republic</td>\n",
       "      <td>001-808-617-6467x12895</td>\n",
       "      <td>+1-813-324-8756</td>\n",
       "      <td>stanleyblackwell@benson.org</td>\n",
       "      <td>2020-06-02</td>\n",
       "      <td>http://www.good-lyons.com/</td>\n",
       "    </tr>\n",
       "    <tr>\n",
       "      <th>4</th>\n",
       "      <td>5</td>\n",
       "      <td>053d585Ab6b3159</td>\n",
       "      <td>Joanna</td>\n",
       "      <td>Bender</td>\n",
       "      <td>Martin, Lang and Andrade</td>\n",
       "      <td>West Priscilla</td>\n",
       "      <td>Slovakia (Slovak Republic)</td>\n",
       "      <td>001-234-203-0635x76146</td>\n",
       "      <td>001-199-446-3860x3486</td>\n",
       "      <td>colinalvarado@miles.net</td>\n",
       "      <td>2021-04-17</td>\n",
       "      <td>https://goodwin-ingram.com/</td>\n",
       "    </tr>\n",
       "  </tbody>\n",
       "</table>\n",
       "</div>"
      ],
      "text/plain": [
       "   Index      Customer Id First Name Last Name  \\\n",
       "0      1  DD37Cf93aecA6Dc     Sheryl    Baxter   \n",
       "1      2  1Ef7b82A4CAAD10    Preston    Lozano   \n",
       "2      3  6F94879bDAfE5a6        Roy     Berry   \n",
       "3      4  5Cef8BFA16c5e3c      Linda     Olsen   \n",
       "4      5  053d585Ab6b3159     Joanna    Bender   \n",
       "\n",
       "                           Company               City  \\\n",
       "0                  Rasmussen Group       East Leonard   \n",
       "1                      Vega-Gentry  East Jimmychester   \n",
       "2                    Murillo-Perry      Isabelborough   \n",
       "3  Dominguez, Mcmillan and Donovan         Bensonview   \n",
       "4         Martin, Lang and Andrade     West Priscilla   \n",
       "\n",
       "                      Country                 Phone 1                Phone 2  \\\n",
       "0                       Chile            229.077.5154       397.884.0519x718   \n",
       "1                    Djibouti              5153435776       686-620-1820x944   \n",
       "2         Antigua and Barbuda         +1-539-402-0259    (496)978-3969x58947   \n",
       "3          Dominican Republic  001-808-617-6467x12895        +1-813-324-8756   \n",
       "4  Slovakia (Slovak Republic)  001-234-203-0635x76146  001-199-446-3860x3486   \n",
       "\n",
       "                         Email Subscription Date                      Website  \n",
       "0     zunigavanessa@smith.info        2020-08-24   http://www.stephenson.com/  \n",
       "1              vmata@colon.com        2021-04-23        http://www.hobbs.com/  \n",
       "2          beckycarr@hogan.com        2020-03-25     http://www.lawrence.com/  \n",
       "3  stanleyblackwell@benson.org        2020-06-02   http://www.good-lyons.com/  \n",
       "4      colinalvarado@miles.net        2021-04-17  https://goodwin-ingram.com/  "
      ]
     },
     "execution_count": 31,
     "metadata": {},
     "output_type": "execute_result"
    }
   ],
   "source": [
    "iris.head()"
   ]
  },
  {
   "cell_type": "code",
   "execution_count": 32,
   "id": "94690fd1-1411-4fb1-89f2-38f62d7e32ea",
   "metadata": {},
   "outputs": [
    {
     "data": {
      "text/html": [
       "<div>\n",
       "<style scoped>\n",
       "    .dataframe tbody tr th:only-of-type {\n",
       "        vertical-align: middle;\n",
       "    }\n",
       "\n",
       "    .dataframe tbody tr th {\n",
       "        vertical-align: top;\n",
       "    }\n",
       "\n",
       "    .dataframe thead th {\n",
       "        text-align: right;\n",
       "    }\n",
       "</style>\n",
       "<table border=\"1\" class=\"dataframe\">\n",
       "  <thead>\n",
       "    <tr style=\"text-align: right;\">\n",
       "      <th></th>\n",
       "      <th>Index</th>\n",
       "      <th>Customer Id</th>\n",
       "      <th>First Name</th>\n",
       "      <th>Last Name</th>\n",
       "      <th>Company</th>\n",
       "      <th>City</th>\n",
       "      <th>Country</th>\n",
       "      <th>Phone 1</th>\n",
       "      <th>Phone 2</th>\n",
       "      <th>Email</th>\n",
       "      <th>Subscription Date</th>\n",
       "      <th>Website</th>\n",
       "    </tr>\n",
       "  </thead>\n",
       "  <tbody>\n",
       "    <tr>\n",
       "      <th>95</th>\n",
       "      <td>96</td>\n",
       "      <td>cb8E23e48d22Eae</td>\n",
       "      <td>Karl</td>\n",
       "      <td>Greer</td>\n",
       "      <td>Carey LLC</td>\n",
       "      <td>East Richard</td>\n",
       "      <td>Guyana</td>\n",
       "      <td>(188)169-1674x58692</td>\n",
       "      <td>001-841-293-3519x614</td>\n",
       "      <td>hhart@jensen.com</td>\n",
       "      <td>2022-01-30</td>\n",
       "      <td>http://hayes-perez.com/</td>\n",
       "    </tr>\n",
       "    <tr>\n",
       "      <th>96</th>\n",
       "      <td>97</td>\n",
       "      <td>CeD220bdAaCfaDf</td>\n",
       "      <td>Lynn</td>\n",
       "      <td>Atkinson</td>\n",
       "      <td>Ware, Burns and Oneal</td>\n",
       "      <td>New Bradview</td>\n",
       "      <td>Sri Lanka</td>\n",
       "      <td>+1-846-706-2218</td>\n",
       "      <td>605.413.3198</td>\n",
       "      <td>vkemp@ferrell.com</td>\n",
       "      <td>2021-07-10</td>\n",
       "      <td>https://novak-allison.com/</td>\n",
       "    </tr>\n",
       "    <tr>\n",
       "      <th>97</th>\n",
       "      <td>98</td>\n",
       "      <td>28CDbC0dFe4b1Db</td>\n",
       "      <td>Fred</td>\n",
       "      <td>Guerra</td>\n",
       "      <td>Schmitt-Jones</td>\n",
       "      <td>Ortegaland</td>\n",
       "      <td>Solomon Islands</td>\n",
       "      <td>+1-753-067-8419x7170</td>\n",
       "      <td>+1-632-666-7507x92121</td>\n",
       "      <td>swagner@kane.org</td>\n",
       "      <td>2021-09-18</td>\n",
       "      <td>https://www.ross.com/</td>\n",
       "    </tr>\n",
       "    <tr>\n",
       "      <th>98</th>\n",
       "      <td>99</td>\n",
       "      <td>c23d1D9EE8DEB0A</td>\n",
       "      <td>Yvonne</td>\n",
       "      <td>Farmer</td>\n",
       "      <td>Fitzgerald-Harrell</td>\n",
       "      <td>Lake Elijahview</td>\n",
       "      <td>Aruba</td>\n",
       "      <td>(530)311-9786</td>\n",
       "      <td>001-869-452-0943x12424</td>\n",
       "      <td>mccarthystephen@horn-green.biz</td>\n",
       "      <td>2021-08-11</td>\n",
       "      <td>http://watkins.info/</td>\n",
       "    </tr>\n",
       "    <tr>\n",
       "      <th>99</th>\n",
       "      <td>100</td>\n",
       "      <td>2354a0E336A91A1</td>\n",
       "      <td>Clarence</td>\n",
       "      <td>Haynes</td>\n",
       "      <td>Le, Nash and Cross</td>\n",
       "      <td>Judymouth</td>\n",
       "      <td>Honduras</td>\n",
       "      <td>(753)813-6941</td>\n",
       "      <td>783.639.1472</td>\n",
       "      <td>colleen91@faulkner.biz</td>\n",
       "      <td>2020-03-11</td>\n",
       "      <td>http://www.hatfield-saunders.net/</td>\n",
       "    </tr>\n",
       "  </tbody>\n",
       "</table>\n",
       "</div>"
      ],
      "text/plain": [
       "    Index      Customer Id First Name Last Name                Company  \\\n",
       "95     96  cb8E23e48d22Eae       Karl     Greer              Carey LLC   \n",
       "96     97  CeD220bdAaCfaDf       Lynn  Atkinson  Ware, Burns and Oneal   \n",
       "97     98  28CDbC0dFe4b1Db       Fred    Guerra          Schmitt-Jones   \n",
       "98     99  c23d1D9EE8DEB0A     Yvonne    Farmer     Fitzgerald-Harrell   \n",
       "99    100  2354a0E336A91A1   Clarence    Haynes     Le, Nash and Cross   \n",
       "\n",
       "               City          Country               Phone 1  \\\n",
       "95     East Richard           Guyana   (188)169-1674x58692   \n",
       "96     New Bradview        Sri Lanka       +1-846-706-2218   \n",
       "97       Ortegaland  Solomon Islands  +1-753-067-8419x7170   \n",
       "98  Lake Elijahview            Aruba         (530)311-9786   \n",
       "99        Judymouth         Honduras         (753)813-6941   \n",
       "\n",
       "                   Phone 2                           Email Subscription Date  \\\n",
       "95    001-841-293-3519x614                hhart@jensen.com        2022-01-30   \n",
       "96            605.413.3198               vkemp@ferrell.com        2021-07-10   \n",
       "97   +1-632-666-7507x92121                swagner@kane.org        2021-09-18   \n",
       "98  001-869-452-0943x12424  mccarthystephen@horn-green.biz        2021-08-11   \n",
       "99            783.639.1472          colleen91@faulkner.biz        2020-03-11   \n",
       "\n",
       "                              Website  \n",
       "95            http://hayes-perez.com/  \n",
       "96         https://novak-allison.com/  \n",
       "97              https://www.ross.com/  \n",
       "98               http://watkins.info/  \n",
       "99  http://www.hatfield-saunders.net/  "
      ]
     },
     "execution_count": 32,
     "metadata": {},
     "output_type": "execute_result"
    }
   ],
   "source": [
    "iris.tail()"
   ]
  },
  {
   "cell_type": "code",
   "execution_count": 33,
   "id": "46d2ead4-5c51-45d9-97e0-0e91c4e1c2fd",
   "metadata": {},
   "outputs": [
    {
     "data": {
      "text/plain": [
       "(100, 12)"
      ]
     },
     "execution_count": 33,
     "metadata": {},
     "output_type": "execute_result"
    }
   ],
   "source": [
    "iris.shape #shows rows and cols"
   ]
  },
  {
   "cell_type": "code",
   "execution_count": 34,
   "id": "bb51ead2-ccc4-4327-9c74-5094da82931a",
   "metadata": {},
   "outputs": [
    {
     "data": {
      "text/html": [
       "<div>\n",
       "<style scoped>\n",
       "    .dataframe tbody tr th:only-of-type {\n",
       "        vertical-align: middle;\n",
       "    }\n",
       "\n",
       "    .dataframe tbody tr th {\n",
       "        vertical-align: top;\n",
       "    }\n",
       "\n",
       "    .dataframe thead th {\n",
       "        text-align: right;\n",
       "    }\n",
       "</style>\n",
       "<table border=\"1\" class=\"dataframe\">\n",
       "  <thead>\n",
       "    <tr style=\"text-align: right;\">\n",
       "      <th></th>\n",
       "      <th>Index</th>\n",
       "    </tr>\n",
       "  </thead>\n",
       "  <tbody>\n",
       "    <tr>\n",
       "      <th>count</th>\n",
       "      <td>100.000000</td>\n",
       "    </tr>\n",
       "    <tr>\n",
       "      <th>mean</th>\n",
       "      <td>50.500000</td>\n",
       "    </tr>\n",
       "    <tr>\n",
       "      <th>std</th>\n",
       "      <td>29.011492</td>\n",
       "    </tr>\n",
       "    <tr>\n",
       "      <th>min</th>\n",
       "      <td>1.000000</td>\n",
       "    </tr>\n",
       "    <tr>\n",
       "      <th>25%</th>\n",
       "      <td>25.750000</td>\n",
       "    </tr>\n",
       "    <tr>\n",
       "      <th>50%</th>\n",
       "      <td>50.500000</td>\n",
       "    </tr>\n",
       "    <tr>\n",
       "      <th>75%</th>\n",
       "      <td>75.250000</td>\n",
       "    </tr>\n",
       "    <tr>\n",
       "      <th>max</th>\n",
       "      <td>100.000000</td>\n",
       "    </tr>\n",
       "  </tbody>\n",
       "</table>\n",
       "</div>"
      ],
      "text/plain": [
       "            Index\n",
       "count  100.000000\n",
       "mean    50.500000\n",
       "std     29.011492\n",
       "min      1.000000\n",
       "25%     25.750000\n",
       "50%     50.500000\n",
       "75%     75.250000\n",
       "max    100.000000"
      ]
     },
     "execution_count": 34,
     "metadata": {},
     "output_type": "execute_result"
    }
   ],
   "source": [
    "iris.describe()"
   ]
  },
  {
   "cell_type": "code",
   "execution_count": 36,
   "id": "b11a38b1-39f2-4831-b89c-7411f5ae23a9",
   "metadata": {},
   "outputs": [
    {
     "data": {
      "text/html": [
       "<div>\n",
       "<style scoped>\n",
       "    .dataframe tbody tr th:only-of-type {\n",
       "        vertical-align: middle;\n",
       "    }\n",
       "\n",
       "    .dataframe tbody tr th {\n",
       "        vertical-align: top;\n",
       "    }\n",
       "\n",
       "    .dataframe thead th {\n",
       "        text-align: right;\n",
       "    }\n",
       "</style>\n",
       "<table border=\"1\" class=\"dataframe\">\n",
       "  <thead>\n",
       "    <tr style=\"text-align: right;\">\n",
       "      <th></th>\n",
       "      <th>First Name</th>\n",
       "      <th>Last Name</th>\n",
       "      <th>Company</th>\n",
       "      <th>City</th>\n",
       "      <th>Country</th>\n",
       "    </tr>\n",
       "  </thead>\n",
       "  <tbody>\n",
       "    <tr>\n",
       "      <th>5</th>\n",
       "      <td>Aimee</td>\n",
       "      <td>Downs</td>\n",
       "      <td>Steele Group</td>\n",
       "      <td>Chavezborough</td>\n",
       "      <td>Bosnia and Herzegovina</td>\n",
       "    </tr>\n",
       "    <tr>\n",
       "      <th>6</th>\n",
       "      <td>Darren</td>\n",
       "      <td>Peck</td>\n",
       "      <td>Lester, Woodard and Mitchell</td>\n",
       "      <td>Lake Ana</td>\n",
       "      <td>Pitcairn Islands</td>\n",
       "    </tr>\n",
       "    <tr>\n",
       "      <th>7</th>\n",
       "      <td>Brett</td>\n",
       "      <td>Mullen</td>\n",
       "      <td>Sanford, Davenport and Giles</td>\n",
       "      <td>Kimport</td>\n",
       "      <td>Bulgaria</td>\n",
       "    </tr>\n",
       "    <tr>\n",
       "      <th>8</th>\n",
       "      <td>Sheryl</td>\n",
       "      <td>Meyers</td>\n",
       "      <td>Browning-Simon</td>\n",
       "      <td>Robersonstad</td>\n",
       "      <td>Cyprus</td>\n",
       "    </tr>\n",
       "    <tr>\n",
       "      <th>9</th>\n",
       "      <td>Michelle</td>\n",
       "      <td>Gallagher</td>\n",
       "      <td>Beck-Hendrix</td>\n",
       "      <td>Elaineberg</td>\n",
       "      <td>Timor-Leste</td>\n",
       "    </tr>\n",
       "    <tr>\n",
       "      <th>10</th>\n",
       "      <td>Carl</td>\n",
       "      <td>Schroeder</td>\n",
       "      <td>Oconnell, Meza and Everett</td>\n",
       "      <td>Shannonville</td>\n",
       "      <td>Guernsey</td>\n",
       "    </tr>\n",
       "  </tbody>\n",
       "</table>\n",
       "</div>"
      ],
      "text/plain": [
       "   First Name  Last Name                       Company           City  \\\n",
       "5       Aimee      Downs                  Steele Group  Chavezborough   \n",
       "6      Darren       Peck  Lester, Woodard and Mitchell       Lake Ana   \n",
       "7       Brett     Mullen  Sanford, Davenport and Giles        Kimport   \n",
       "8      Sheryl     Meyers                Browning-Simon   Robersonstad   \n",
       "9    Michelle  Gallagher                  Beck-Hendrix     Elaineberg   \n",
       "10       Carl  Schroeder    Oconnell, Meza and Everett   Shannonville   \n",
       "\n",
       "                   Country  \n",
       "5   Bosnia and Herzegovina  \n",
       "6         Pitcairn Islands  \n",
       "7                 Bulgaria  \n",
       "8                   Cyprus  \n",
       "9              Timor-Leste  \n",
       "10                Guernsey  "
      ]
     },
     "execution_count": 36,
     "metadata": {},
     "output_type": "execute_result"
    }
   ],
   "source": [
    "iris.iloc[5:11,2:7]"
   ]
  },
  {
   "cell_type": "code",
   "execution_count": 37,
   "id": "acb71371-8353-402a-bb91-36899469e68e",
   "metadata": {},
   "outputs": [
    {
     "data": {
      "text/html": [
       "<div>\n",
       "<style scoped>\n",
       "    .dataframe tbody tr th:only-of-type {\n",
       "        vertical-align: middle;\n",
       "    }\n",
       "\n",
       "    .dataframe tbody tr th {\n",
       "        vertical-align: top;\n",
       "    }\n",
       "\n",
       "    .dataframe thead th {\n",
       "        text-align: right;\n",
       "    }\n",
       "</style>\n",
       "<table border=\"1\" class=\"dataframe\">\n",
       "  <thead>\n",
       "    <tr style=\"text-align: right;\">\n",
       "      <th></th>\n",
       "      <th>First Name</th>\n",
       "      <th>Last Name</th>\n",
       "      <th>Company</th>\n",
       "      <th>City</th>\n",
       "      <th>Country</th>\n",
       "      <th>Phone 1</th>\n",
       "      <th>Email</th>\n",
       "    </tr>\n",
       "  </thead>\n",
       "  <tbody>\n",
       "    <tr>\n",
       "      <th>1</th>\n",
       "      <td>Preston</td>\n",
       "      <td>Lozano</td>\n",
       "      <td>Vega-Gentry</td>\n",
       "      <td>East Jimmychester</td>\n",
       "      <td>Djibouti</td>\n",
       "      <td>5153435776</td>\n",
       "      <td>vmata@colon.com</td>\n",
       "    </tr>\n",
       "    <tr>\n",
       "      <th>2</th>\n",
       "      <td>Roy</td>\n",
       "      <td>Berry</td>\n",
       "      <td>Murillo-Perry</td>\n",
       "      <td>Isabelborough</td>\n",
       "      <td>Antigua and Barbuda</td>\n",
       "      <td>+1-539-402-0259</td>\n",
       "      <td>beckycarr@hogan.com</td>\n",
       "    </tr>\n",
       "    <tr>\n",
       "      <th>3</th>\n",
       "      <td>Linda</td>\n",
       "      <td>Olsen</td>\n",
       "      <td>Dominguez, Mcmillan and Donovan</td>\n",
       "      <td>Bensonview</td>\n",
       "      <td>Dominican Republic</td>\n",
       "      <td>001-808-617-6467x12895</td>\n",
       "      <td>stanleyblackwell@benson.org</td>\n",
       "    </tr>\n",
       "    <tr>\n",
       "      <th>4</th>\n",
       "      <td>Joanna</td>\n",
       "      <td>Bender</td>\n",
       "      <td>Martin, Lang and Andrade</td>\n",
       "      <td>West Priscilla</td>\n",
       "      <td>Slovakia (Slovak Republic)</td>\n",
       "      <td>001-234-203-0635x76146</td>\n",
       "      <td>colinalvarado@miles.net</td>\n",
       "    </tr>\n",
       "    <tr>\n",
       "      <th>5</th>\n",
       "      <td>Aimee</td>\n",
       "      <td>Downs</td>\n",
       "      <td>Steele Group</td>\n",
       "      <td>Chavezborough</td>\n",
       "      <td>Bosnia and Herzegovina</td>\n",
       "      <td>(283)437-3886x88321</td>\n",
       "      <td>louis27@gilbert.com</td>\n",
       "    </tr>\n",
       "    <tr>\n",
       "      <th>6</th>\n",
       "      <td>Darren</td>\n",
       "      <td>Peck</td>\n",
       "      <td>Lester, Woodard and Mitchell</td>\n",
       "      <td>Lake Ana</td>\n",
       "      <td>Pitcairn Islands</td>\n",
       "      <td>(496)452-6181x3291</td>\n",
       "      <td>tgates@cantrell.com</td>\n",
       "    </tr>\n",
       "    <tr>\n",
       "      <th>7</th>\n",
       "      <td>Brett</td>\n",
       "      <td>Mullen</td>\n",
       "      <td>Sanford, Davenport and Giles</td>\n",
       "      <td>Kimport</td>\n",
       "      <td>Bulgaria</td>\n",
       "      <td>001-583-352-7197x297</td>\n",
       "      <td>asnow@colon.com</td>\n",
       "    </tr>\n",
       "    <tr>\n",
       "      <th>8</th>\n",
       "      <td>Sheryl</td>\n",
       "      <td>Meyers</td>\n",
       "      <td>Browning-Simon</td>\n",
       "      <td>Robersonstad</td>\n",
       "      <td>Cyprus</td>\n",
       "      <td>854-138-4911x5772</td>\n",
       "      <td>mariokhan@ryan-pope.org</td>\n",
       "    </tr>\n",
       "    <tr>\n",
       "      <th>9</th>\n",
       "      <td>Michelle</td>\n",
       "      <td>Gallagher</td>\n",
       "      <td>Beck-Hendrix</td>\n",
       "      <td>Elaineberg</td>\n",
       "      <td>Timor-Leste</td>\n",
       "      <td>739.218.2516x459</td>\n",
       "      <td>mdyer@escobar.net</td>\n",
       "    </tr>\n",
       "    <tr>\n",
       "      <th>10</th>\n",
       "      <td>Carl</td>\n",
       "      <td>Schroeder</td>\n",
       "      <td>Oconnell, Meza and Everett</td>\n",
       "      <td>Shannonville</td>\n",
       "      <td>Guernsey</td>\n",
       "      <td>637-854-0256x825</td>\n",
       "      <td>kirksalas@webb.com</td>\n",
       "    </tr>\n",
       "  </tbody>\n",
       "</table>\n",
       "</div>"
      ],
      "text/plain": [
       "   First Name  Last Name                          Company               City  \\\n",
       "1     Preston     Lozano                      Vega-Gentry  East Jimmychester   \n",
       "2         Roy      Berry                    Murillo-Perry      Isabelborough   \n",
       "3       Linda      Olsen  Dominguez, Mcmillan and Donovan         Bensonview   \n",
       "4      Joanna     Bender         Martin, Lang and Andrade     West Priscilla   \n",
       "5       Aimee      Downs                     Steele Group      Chavezborough   \n",
       "6      Darren       Peck     Lester, Woodard and Mitchell           Lake Ana   \n",
       "7       Brett     Mullen     Sanford, Davenport and Giles            Kimport   \n",
       "8      Sheryl     Meyers                   Browning-Simon       Robersonstad   \n",
       "9    Michelle  Gallagher                     Beck-Hendrix         Elaineberg   \n",
       "10       Carl  Schroeder       Oconnell, Meza and Everett       Shannonville   \n",
       "\n",
       "                       Country                 Phone 1  \\\n",
       "1                     Djibouti              5153435776   \n",
       "2          Antigua and Barbuda         +1-539-402-0259   \n",
       "3           Dominican Republic  001-808-617-6467x12895   \n",
       "4   Slovakia (Slovak Republic)  001-234-203-0635x76146   \n",
       "5       Bosnia and Herzegovina     (283)437-3886x88321   \n",
       "6             Pitcairn Islands      (496)452-6181x3291   \n",
       "7                     Bulgaria    001-583-352-7197x297   \n",
       "8                       Cyprus       854-138-4911x5772   \n",
       "9                  Timor-Leste        739.218.2516x459   \n",
       "10                    Guernsey        637-854-0256x825   \n",
       "\n",
       "                          Email  \n",
       "1               vmata@colon.com  \n",
       "2           beckycarr@hogan.com  \n",
       "3   stanleyblackwell@benson.org  \n",
       "4       colinalvarado@miles.net  \n",
       "5           louis27@gilbert.com  \n",
       "6           tgates@cantrell.com  \n",
       "7               asnow@colon.com  \n",
       "8       mariokhan@ryan-pope.org  \n",
       "9             mdyer@escobar.net  \n",
       "10           kirksalas@webb.com  "
      ]
     },
     "execution_count": 37,
     "metadata": {},
     "output_type": "execute_result"
    }
   ],
   "source": [
    "iris.loc[1:10,(\"First Name\",\"Last Name\",\"Company\",\"City\",\"Country\",\"Phone 1\",\"Email\")]\n"
   ]
  },
  {
   "cell_type": "code",
   "execution_count": 43,
   "id": "2ba1e654-64b1-46a9-a346-ca73fd94f030",
   "metadata": {},
   "outputs": [
    {
     "data": {
      "text/html": [
       "<div>\n",
       "<style scoped>\n",
       "    .dataframe tbody tr th:only-of-type {\n",
       "        vertical-align: middle;\n",
       "    }\n",
       "\n",
       "    .dataframe tbody tr th {\n",
       "        vertical-align: top;\n",
       "    }\n",
       "\n",
       "    .dataframe thead th {\n",
       "        text-align: right;\n",
       "    }\n",
       "</style>\n",
       "<table border=\"1\" class=\"dataframe\">\n",
       "  <thead>\n",
       "    <tr style=\"text-align: right;\">\n",
       "      <th></th>\n",
       "      <th>Index</th>\n",
       "      <th>Customer Id</th>\n",
       "      <th>First Name</th>\n",
       "      <th>Last Name</th>\n",
       "      <th>Company</th>\n",
       "      <th>City</th>\n",
       "      <th>Country</th>\n",
       "      <th>Phone 1</th>\n",
       "      <th>Phone 2</th>\n",
       "      <th>Email</th>\n",
       "      <th>Subscription Date</th>\n",
       "      <th>Website</th>\n",
       "    </tr>\n",
       "  </thead>\n",
       "  <tbody>\n",
       "    <tr>\n",
       "      <th>0</th>\n",
       "      <td>1</td>\n",
       "      <td>DD37Cf93aecA6Dc</td>\n",
       "      <td>Sheryl</td>\n",
       "      <td>Baxter</td>\n",
       "      <td>Rasmussen Group</td>\n",
       "      <td>East Leonard</td>\n",
       "      <td>Chile</td>\n",
       "      <td>229.077.5154</td>\n",
       "      <td>397.884.0519x718</td>\n",
       "      <td>zunigavanessa@smith.info</td>\n",
       "      <td>2020-08-24</td>\n",
       "      <td>http://www.stephenson.com/</td>\n",
       "    </tr>\n",
       "    <tr>\n",
       "      <th>1</th>\n",
       "      <td>2</td>\n",
       "      <td>1Ef7b82A4CAAD10</td>\n",
       "      <td>Preston</td>\n",
       "      <td>Lozano</td>\n",
       "      <td>Vega-Gentry</td>\n",
       "      <td>East Jimmychester</td>\n",
       "      <td>Djibouti</td>\n",
       "      <td>5153435776</td>\n",
       "      <td>686-620-1820x944</td>\n",
       "      <td>vmata@colon.com</td>\n",
       "      <td>2021-04-23</td>\n",
       "      <td>http://www.hobbs.com/</td>\n",
       "    </tr>\n",
       "    <tr>\n",
       "      <th>2</th>\n",
       "      <td>3</td>\n",
       "      <td>6F94879bDAfE5a6</td>\n",
       "      <td>Roy</td>\n",
       "      <td>Berry</td>\n",
       "      <td>Murillo-Perry</td>\n",
       "      <td>Isabelborough</td>\n",
       "      <td>Antigua and Barbuda</td>\n",
       "      <td>+1-539-402-0259</td>\n",
       "      <td>(496)978-3969x58947</td>\n",
       "      <td>beckycarr@hogan.com</td>\n",
       "      <td>2020-03-25</td>\n",
       "      <td>http://www.lawrence.com/</td>\n",
       "    </tr>\n",
       "    <tr>\n",
       "      <th>6</th>\n",
       "      <td>7</td>\n",
       "      <td>EA4d384DfDbBf77</td>\n",
       "      <td>Darren</td>\n",
       "      <td>Peck</td>\n",
       "      <td>Lester, Woodard and Mitchell</td>\n",
       "      <td>Lake Ana</td>\n",
       "      <td>Pitcairn Islands</td>\n",
       "      <td>(496)452-6181x3291</td>\n",
       "      <td>+1-247-266-0963x4995</td>\n",
       "      <td>tgates@cantrell.com</td>\n",
       "      <td>2021-08-24</td>\n",
       "      <td>https://www.le.com/</td>\n",
       "    </tr>\n",
       "    <tr>\n",
       "      <th>7</th>\n",
       "      <td>8</td>\n",
       "      <td>0e04AFde9f225dE</td>\n",
       "      <td>Brett</td>\n",
       "      <td>Mullen</td>\n",
       "      <td>Sanford, Davenport and Giles</td>\n",
       "      <td>Kimport</td>\n",
       "      <td>Bulgaria</td>\n",
       "      <td>001-583-352-7197x297</td>\n",
       "      <td>001-333-145-0369</td>\n",
       "      <td>asnow@colon.com</td>\n",
       "      <td>2021-04-12</td>\n",
       "      <td>https://hammond-ramsey.com/</td>\n",
       "    </tr>\n",
       "  </tbody>\n",
       "</table>\n",
       "</div>"
      ],
      "text/plain": [
       "   Index      Customer Id First Name Last Name                       Company  \\\n",
       "0      1  DD37Cf93aecA6Dc     Sheryl    Baxter               Rasmussen Group   \n",
       "1      2  1Ef7b82A4CAAD10    Preston    Lozano                   Vega-Gentry   \n",
       "2      3  6F94879bDAfE5a6        Roy     Berry                 Murillo-Perry   \n",
       "6      7  EA4d384DfDbBf77     Darren      Peck  Lester, Woodard and Mitchell   \n",
       "7      8  0e04AFde9f225dE      Brett    Mullen  Sanford, Davenport and Giles   \n",
       "\n",
       "                City              Country               Phone 1  \\\n",
       "0       East Leonard                Chile          229.077.5154   \n",
       "1  East Jimmychester             Djibouti            5153435776   \n",
       "2      Isabelborough  Antigua and Barbuda       +1-539-402-0259   \n",
       "6           Lake Ana     Pitcairn Islands    (496)452-6181x3291   \n",
       "7            Kimport             Bulgaria  001-583-352-7197x297   \n",
       "\n",
       "                Phone 2                     Email Subscription Date  \\\n",
       "0      397.884.0519x718  zunigavanessa@smith.info        2020-08-24   \n",
       "1      686-620-1820x944           vmata@colon.com        2021-04-23   \n",
       "2   (496)978-3969x58947       beckycarr@hogan.com        2020-03-25   \n",
       "6  +1-247-266-0963x4995       tgates@cantrell.com        2021-08-24   \n",
       "7      001-333-145-0369           asnow@colon.com        2021-04-12   \n",
       "\n",
       "                       Website  \n",
       "0   http://www.stephenson.com/  \n",
       "1        http://www.hobbs.com/  \n",
       "2     http://www.lawrence.com/  \n",
       "6          https://www.le.com/  \n",
       "7  https://hammond-ramsey.com/  "
      ]
     },
     "execution_count": 43,
     "metadata": {},
     "output_type": "execute_result"
    }
   ],
   "source": [
    "i10 = iris.loc[0:10]\n",
    "i10 = iris.drop([3,4,5])\n",
    "i10.head()"
   ]
  },
  {
   "cell_type": "code",
   "execution_count": 44,
   "id": "d59ff01d-ab98-4ef9-a3df-8fbba866b728",
   "metadata": {},
   "outputs": [
    {
     "data": {
      "text/plain": [
       "Index                                          1\n",
       "Customer Id                      010468dAA11382c\n",
       "First Name                                 Aimee\n",
       "Last Name                               Alvarado\n",
       "Company              Acosta, Petersen and Morrow\n",
       "City                                Acevedoville\n",
       "Country                                  Albania\n",
       "Phone 1                            (041)737-3846\n",
       "Phone 2                       (026)401-7353x2417\n",
       "Email                aharper@maddox-townsend.org\n",
       "Subscription Date                     2020-01-13\n",
       "Website                       http://acosta.org/\n",
       "dtype: object"
      ]
     },
     "execution_count": 44,
     "metadata": {},
     "output_type": "execute_result"
    }
   ],
   "source": [
    "iris.min()"
   ]
  },
  {
   "cell_type": "code",
   "execution_count": 45,
   "id": "07674ec1-3ed9-4767-8a0c-78ae7c79d4d2",
   "metadata": {},
   "outputs": [
    {
     "data": {
      "text/plain": [
       "Index                                  100\n",
       "Customer Id                faCEF517ae7D8eB\n",
       "First Name                          Yvonne\n",
       "Last Name                           Zuniga\n",
       "Company                    Winters-Mendoza\n",
       "City                         Zimmermanland\n",
       "Country                           Zimbabwe\n",
       "Phone 1                       981-544-9452\n",
       "Phone 2                       999-728-1637\n",
       "Email                 zvalencia@phelps.com\n",
       "Subscription Date               2022-05-26\n",
       "Website              https://www.vang.com/\n",
       "dtype: object"
      ]
     },
     "execution_count": 45,
     "metadata": {},
     "output_type": "execute_result"
    }
   ],
   "source": [
    "iris.max()"
   ]
  },
  {
   "cell_type": "code",
   "execution_count": 47,
   "id": "1ebf9ccd-32e6-4691-8073-ea3f2c2aa1d8",
   "metadata": {},
   "outputs": [],
   "source": [
    "iris.sort_values(by = 'Subscript')"
   ]
  },
  {
   "cell_type": "code",
   "execution_count": null,
   "id": "5597f5ce-2f8a-4da1-a914-1458d78384c5",
   "metadata": {},
   "outputs": [],
   "source": []
  }
 ],
 "metadata": {
  "kernelspec": {
   "display_name": "Python 3 (ipykernel)",
   "language": "python",
   "name": "python3"
  },
  "language_info": {
   "codemirror_mode": {
    "name": "ipython",
    "version": 3
   },
   "file_extension": ".py",
   "mimetype": "text/x-python",
   "name": "python",
   "nbconvert_exporter": "python",
   "pygments_lexer": "ipython3",
   "version": "3.10.11"
  }
 },
 "nbformat": 4,
 "nbformat_minor": 5
}
