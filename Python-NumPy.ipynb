{
 "cells": [
  {
   "cell_type": "code",
   "execution_count": 2,
   "id": "1b8ebfb5-5da3-4d93-8ecd-eb1ea252dd6e",
   "metadata": {},
   "outputs": [],
   "source": [
    "import numpy as np"
   ]
  },
  {
   "cell_type": "code",
   "execution_count": 3,
   "id": "79e16c36-96f7-4444-a0b0-a947da8ce1e2",
   "metadata": {},
   "outputs": [
    {
     "data": {
      "text/plain": [
       "[1, 2, 3, 4, 5]"
      ]
     },
     "execution_count": 3,
     "metadata": {},
     "output_type": "execute_result"
    }
   ],
   "source": [
    "list1=[1,2,3,4,5]\n",
    "n1=np.array(list1)\n",
    "list1"
   ]
  },
  {
   "cell_type": "code",
   "execution_count": 7,
   "id": "b566a17c-569c-4084-8296-6a841538071f",
   "metadata": {},
   "outputs": [
    {
     "data": {
      "text/plain": [
       "numpy.ndarray"
      ]
     },
     "execution_count": 7,
     "metadata": {},
     "output_type": "execute_result"
    }
   ],
   "source": [
    "type (n1)"
   ]
  },
  {
   "cell_type": "code",
   "execution_count": 9,
   "id": "9fb79b1a-6088-48a8-a224-b3260b783dba",
   "metadata": {},
   "outputs": [
    {
     "data": {
      "text/plain": [
       "array([[0., 0., 0., 0., 0.],\n",
       "       [0., 0., 0., 0., 0.],\n",
       "       [0., 0., 0., 0., 0.],\n",
       "       [0., 0., 0., 0., 0.],\n",
       "       [0., 0., 0., 0., 0.]])"
      ]
     },
     "execution_count": 9,
     "metadata": {},
     "output_type": "execute_result"
    }
   ],
   "source": [
    "matrix1=np.zeros((5,5))\n",
    "matrix1"
   ]
  },
  {
   "cell_type": "code",
   "execution_count": 10,
   "id": "c73ed56b-d866-4e42-bb3b-76dcf43ddf13",
   "metadata": {},
   "outputs": [
    {
     "data": {
      "text/plain": [
       "array([[0., 0., 0., 0., 0., 0., 0., 0., 0., 0., 0., 0., 0., 0., 0.],\n",
       "       [0., 0., 0., 0., 0., 0., 0., 0., 0., 0., 0., 0., 0., 0., 0.],\n",
       "       [0., 0., 0., 0., 0., 0., 0., 0., 0., 0., 0., 0., 0., 0., 0.],\n",
       "       [0., 0., 0., 0., 0., 0., 0., 0., 0., 0., 0., 0., 0., 0., 0.],\n",
       "       [0., 0., 0., 0., 0., 0., 0., 0., 0., 0., 0., 0., 0., 0., 0.],\n",
       "       [0., 0., 0., 0., 0., 0., 0., 0., 0., 0., 0., 0., 0., 0., 0.],\n",
       "       [0., 0., 0., 0., 0., 0., 0., 0., 0., 0., 0., 0., 0., 0., 0.],\n",
       "       [0., 0., 0., 0., 0., 0., 0., 0., 0., 0., 0., 0., 0., 0., 0.],\n",
       "       [0., 0., 0., 0., 0., 0., 0., 0., 0., 0., 0., 0., 0., 0., 0.],\n",
       "       [0., 0., 0., 0., 0., 0., 0., 0., 0., 0., 0., 0., 0., 0., 0.]])"
      ]
     },
     "execution_count": 10,
     "metadata": {},
     "output_type": "execute_result"
    }
   ],
   "source": [
    "matrix2=np.zeros((10,15))\n",
    "matrix2"
   ]
  },
  {
   "cell_type": "code",
   "execution_count": null,
   "id": "c135ecbf-7ee4-4491-b752-0dedcafdef24",
   "metadata": {},
   "outputs": [],
   "source": [
    "########     Initialize NumPy array with some other number"
   ]
  },
  {
   "cell_type": "code",
   "execution_count": 13,
   "id": "3a32d87b-7ba3-4ee0-97b4-06dbd9fa6f7d",
   "metadata": {},
   "outputs": [
    {
     "data": {
      "text/plain": [
       "array([[69, 69, 69, 69, 69],\n",
       "       [69, 69, 69, 69, 69],\n",
       "       [69, 69, 69, 69, 69],\n",
       "       [69, 69, 69, 69, 69],\n",
       "       [69, 69, 69, 69, 69]])"
      ]
     },
     "execution_count": 13,
     "metadata": {},
     "output_type": "execute_result"
    }
   ],
   "source": [
    "matrix3 = np.full((5,5),69)\n",
    "matrix3"
   ]
  },
  {
   "cell_type": "code",
   "execution_count": null,
   "id": "1079d5a6-1851-4fc7-a9fa-1cfee49d4d03",
   "metadata": {},
   "outputs": [],
   "source": [
    "# NumPy arrays"
   ]
  },
  {
   "cell_type": "code",
   "execution_count": 16,
   "id": "c2705cdd-284d-4017-a938-3d422f381d4b",
   "metadata": {},
   "outputs": [
    {
     "data": {
      "text/plain": [
       "array([1, 2, 3, 4, 5, 6, 7, 8, 9])"
      ]
     },
     "execution_count": 16,
     "metadata": {},
     "output_type": "execute_result"
    }
   ],
   "source": [
    "arr1=np.arange(1,10)\n",
    "arr1"
   ]
  },
  {
   "cell_type": "code",
   "execution_count": 17,
   "id": "fa43209c-4824-4893-b4f3-dcef5ac45be5",
   "metadata": {},
   "outputs": [
    {
     "data": {
      "text/plain": [
       "array([1, 3, 5, 7, 9])"
      ]
     },
     "execution_count": 17,
     "metadata": {},
     "output_type": "execute_result"
    }
   ],
   "source": [
    "arr1=np.arange(1,10,2)\n",
    "arr1"
   ]
  },
  {
   "cell_type": "code",
   "execution_count": null,
   "id": "af588fa0-d295-43ad-9fb3-91cefd139a92",
   "metadata": {},
   "outputs": [],
   "source": [
    "#initialize array with random numbers "
   ]
  },
  {
   "cell_type": "code",
   "execution_count": 19,
   "id": "f33d0d69-4975-48bd-9c36-881300c1226e",
   "metadata": {},
   "outputs": [
    {
     "data": {
      "text/plain": [
       "array([16,  7,  3,  9,  9], dtype=int32)"
      ]
     },
     "execution_count": 19,
     "metadata": {},
     "output_type": "execute_result"
    }
   ],
   "source": [
    "random_array = np.random.randint(1,20,5)\n",
    "random_array"
   ]
  },
  {
   "cell_type": "code",
   "execution_count": 26,
   "id": "966eefb9-8d99-4a3b-82f3-1b0ca0b9cb70",
   "metadata": {},
   "outputs": [
    {
     "data": {
      "text/plain": [
       "(2, 3)"
      ]
     },
     "execution_count": 26,
     "metadata": {},
     "output_type": "execute_result"
    }
   ],
   "source": [
    "matrix=np.array([[1,2,3],[4,5,6]])\n",
    "matrix.shape"
   ]
  },
  {
   "cell_type": "code",
   "execution_count": 27,
   "id": "0f6520c3-3f4d-46fd-bd90-55ec86e07d70",
   "metadata": {},
   "outputs": [
    {
     "data": {
      "text/plain": [
       "array([[1, 2],\n",
       "       [3, 4],\n",
       "       [5, 6]])"
      ]
     },
     "execution_count": 27,
     "metadata": {},
     "output_type": "execute_result"
    }
   ],
   "source": [
    "matrix.shape = (3,2)\n",
    "matrix"
   ]
  },
  {
   "cell_type": "code",
   "execution_count": null,
   "id": "3823c919-f67c-4994-8d1b-e7d85d777aba",
   "metadata": {},
   "outputs": [],
   "source": [
    "################### JOINING NumPy ARRAYS"
   ]
  },
  {
   "cell_type": "code",
   "execution_count": 29,
   "id": "71945c70-95c6-4011-b433-7d6d5d32aeb6",
   "metadata": {},
   "outputs": [
    {
     "data": {
      "text/plain": [
       "array([[1, 2, 3],\n",
       "       [4, 5, 6]])"
      ]
     },
     "execution_count": 29,
     "metadata": {},
     "output_type": "execute_result"
    }
   ],
   "source": [
    "#Vertical Stack\n",
    "n1=np.array([1,2,3])\n",
    "n2=np.array([4,5,6])\n",
    "np.vstack((n1,n2))\n"
   ]
  },
  {
   "cell_type": "code",
   "execution_count": 30,
   "id": "9bbce2f6-e3b4-4edb-b2da-df5466bafee3",
   "metadata": {},
   "outputs": [
    {
     "data": {
      "text/plain": [
       "array([1, 2, 3, 4, 5, 6])"
      ]
     },
     "execution_count": 30,
     "metadata": {},
     "output_type": "execute_result"
    }
   ],
   "source": [
    "#Horizontal Stack\n",
    "n1=np.array([1,2,3])\n",
    "n2=np.array([4,5,6])\n",
    "np.hstack((n1,n2))"
   ]
  },
  {
   "cell_type": "code",
   "execution_count": 32,
   "id": "87f421a6-91c5-4c99-b08f-1081b7cd1fcd",
   "metadata": {},
   "outputs": [
    {
     "data": {
      "text/plain": [
       "array([[1, 4],\n",
       "       [2, 5],\n",
       "       [3, 6]])"
      ]
     },
     "execution_count": 32,
     "metadata": {},
     "output_type": "execute_result"
    }
   ],
   "source": [
    "#Column Stack\n",
    "n1=np.array([1,2,3])\n",
    "n2=np.array([4,5,6])\n",
    "np.column_stack((n1,n2))"
   ]
  },
  {
   "cell_type": "code",
   "execution_count": null,
   "id": "dbc46960-28f4-4c9e-9ee0-e3a970e2fbbc",
   "metadata": {},
   "outputs": [],
   "source": [
    "#Creating 2 2-D matrices and summing them up:"
   ]
  },
  {
   "cell_type": "code",
   "execution_count": 43,
   "id": "3dbba00e-9e65-4d6c-a5fc-fceb577aa8ec",
   "metadata": {},
   "outputs": [
    {
     "data": {
      "text/plain": [
       "np.int64(297)"
      ]
     },
     "execution_count": 43,
     "metadata": {},
     "output_type": "execute_result"
    }
   ],
   "source": [
    "mat1=np.full((3,3),10)\n",
    "mat1=mat1+1\n",
    "mat2=np.full((3,3),20)\n",
    "mat2=mat2+2\n",
    "np.sum([mat1,mat2])"
   ]
  },
  {
   "cell_type": "code",
   "execution_count": 44,
   "id": "e58c3205-1ac5-4b93-bf46-372689b8154d",
   "metadata": {},
   "outputs": [
    {
     "data": {
      "text/plain": [
       "array([[33, 33, 33],\n",
       "       [33, 33, 33],\n",
       "       [33, 33, 33]])"
      ]
     },
     "execution_count": 44,
     "metadata": {},
     "output_type": "execute_result"
    }
   ],
   "source": [
    "np.sum([mat1,mat2],axis=0) "
   ]
  },
  {
   "cell_type": "code",
   "execution_count": 45,
   "id": "6e28c648-e087-40c0-814b-1b1e909241ce",
   "metadata": {},
   "outputs": [
    {
     "data": {
      "text/plain": [
       "array([[33, 33, 33],\n",
       "       [66, 66, 66]])"
      ]
     },
     "execution_count": 45,
     "metadata": {},
     "output_type": "execute_result"
    }
   ],
   "source": [
    "np.sum([mat1,mat2],axis=1)"
   ]
  },
  {
   "cell_type": "code",
   "execution_count": 48,
   "id": "90464105-7625-4799-b896-4ae048d06a7f",
   "metadata": {},
   "outputs": [
    {
     "data": {
      "text/plain": [
       "np.float64(10.0)"
      ]
     },
     "execution_count": 48,
     "metadata": {},
     "output_type": "execute_result"
    }
   ],
   "source": [
    "#  MEAN\n",
    "n1=np.arange(1,20)\n",
    "np.mean(n1)"
   ]
  },
  {
   "cell_type": "code",
   "execution_count": 51,
   "id": "d89b4e73-4b52-43e2-9642-7605beecc598",
   "metadata": {},
   "outputs": [
    {
     "data": {
      "text/plain": [
       "np.float64(324.5)"
      ]
     },
     "execution_count": 51,
     "metadata": {},
     "output_type": "execute_result"
    }
   ],
   "source": [
    "#    Median\n",
    "n1=np.random.randint(1,800,10)\n",
    "np.median(n1)"
   ]
  },
  {
   "cell_type": "code",
   "execution_count": 50,
   "id": "0441e2db-fff1-46f7-913b-355b1f38baf7",
   "metadata": {},
   "outputs": [
    {
     "data": {
      "text/plain": [
       "np.float64(5.477225575051661)"
      ]
     },
     "execution_count": 50,
     "metadata": {},
     "output_type": "execute_result"
    }
   ],
   "source": [
    "#   Standard Deviation\n",
    "n1=np.arange(1,20)\n",
    "np.std(n1)"
   ]
  },
  {
   "cell_type": "code",
   "execution_count": null,
   "id": "f92e6691-253d-4291-bae6-04117d28f28e",
   "metadata": {},
   "outputs": [],
   "source": []
  }
 ],
 "metadata": {
  "kernelspec": {
   "display_name": "Python 3 (ipykernel)",
   "language": "python",
   "name": "python3"
  },
  "language_info": {
   "codemirror_mode": {
    "name": "ipython",
    "version": 3
   },
   "file_extension": ".py",
   "mimetype": "text/x-python",
   "name": "python",
   "nbconvert_exporter": "python",
   "pygments_lexer": "ipython3",
   "version": "3.10.11"
  }
 },
 "nbformat": 4,
 "nbformat_minor": 5
}
