{
 "cells": [
  {
   "cell_type": "code",
   "execution_count": 30,
   "id": "5d3b62bc-1764-4375-a528-996e31e970a3",
   "metadata": {},
   "outputs": [],
   "source": [
    "class Phone:\n",
    "    def call_me(self):\n",
    "        print('Call me after 8 pm')\n",
    "    def play_game(self):\n",
    "        print('Lets play a game')"
   ]
  },
  {
   "cell_type": "code",
   "execution_count": 31,
   "id": "6926b3ad-b22f-4d64-b5d2-07de10590d55",
   "metadata": {},
   "outputs": [],
   "source": [
    "phone1 = Phone()"
   ]
  },
  {
   "cell_type": "code",
   "execution_count": 32,
   "id": "098e263e-448c-43f3-9774-4a70bc34d783",
   "metadata": {},
   "outputs": [
    {
     "name": "stdout",
     "output_type": "stream",
     "text": [
      "Call me after 8 pm\n"
     ]
    }
   ],
   "source": [
    "phone1.call_me()"
   ]
  },
  {
   "cell_type": "code",
   "execution_count": 33,
   "id": "72e8e1b5-04fd-4f7f-9d02-9469b4ab2ce3",
   "metadata": {},
   "outputs": [
    {
     "name": "stdout",
     "output_type": "stream",
     "text": [
      "Lets play a game\n"
     ]
    }
   ],
   "source": [
    "phone1.play_game()"
   ]
  },
  {
   "cell_type": "code",
   "execution_count": 43,
   "id": "a00fe7c6-7c44-4f7e-9871-b5facf7ea3ef",
   "metadata": {},
   "outputs": [],
   "source": [
    "class Phone:\n",
    "    def set_phone_no(self,phone):\n",
    "        self.phone=phone\n",
    "    def set_city(self,city):\n",
    "        self.city=city\n",
    "    def show_phone_no(self):\n",
    "        return self.phone\n",
    "    def show_city(self):\n",
    "        return self.city"
   ]
  },
  {
   "cell_type": "code",
   "execution_count": 44,
   "id": "69d4d21c-19cf-4ae6-970c-6deb0531d665",
   "metadata": {},
   "outputs": [],
   "source": [
    "phone2 = Phone()"
   ]
  },
  {
   "cell_type": "code",
   "execution_count": 45,
   "id": "7db4cd94-fc8b-480b-8eca-58bd1f91aea4",
   "metadata": {},
   "outputs": [],
   "source": [
    "phone2.set_phone_no (7001313761)\n",
    "phone2.set_city('Delhi')"
   ]
  },
  {
   "cell_type": "code",
   "execution_count": 46,
   "id": "5ee8c348-b2c4-4fb4-8b83-84f03768c4c1",
   "metadata": {},
   "outputs": [
    {
     "data": {
      "text/plain": [
       "7001313761"
      ]
     },
     "execution_count": 46,
     "metadata": {},
     "output_type": "execute_result"
    }
   ],
   "source": [
    "phone2.show_phone_no()"
   ]
  },
  {
   "cell_type": "code",
   "execution_count": 47,
   "id": "45524df3-4e9e-49d6-a496-0edc6a52fa29",
   "metadata": {},
   "outputs": [
    {
     "data": {
      "text/plain": [
       "'Delhi'"
      ]
     },
     "execution_count": 47,
     "metadata": {},
     "output_type": "execute_result"
    }
   ],
   "source": [
    "phone2.show_city()"
   ]
  },
  {
   "cell_type": "code",
   "execution_count": null,
   "id": "76d761aa-f37f-4c6d-8693-5e14fa3068b0",
   "metadata": {},
   "outputs": [],
   "source": [
    "##########    Constructor in Python          def __init__():       #########"
   ]
  },
  {
   "cell_type": "code",
   "execution_count": 53,
   "id": "a91dc50f-3d84-4a62-8f70-82a867daaa08",
   "metadata": {},
   "outputs": [],
   "source": [
    "class Employee:\n",
    "    def __init__(self,name,age,salary,gender):\n",
    "        self.name=name\n",
    "        self.age=age\n",
    "        self.salary=salary\n",
    "        self.gender=gender\n",
    "        \n",
    "    def show_employee_details(self):\n",
    "        print(\"Name:\", self.name)\n",
    "        print(\"Age:\", self.age)\n",
    "        print(\"Salary:\", self.salary)\n",
    "        print(\"Gender:\", self.gender)   "
   ]
  },
  {
   "cell_type": "code",
   "execution_count": 54,
   "id": "5f4b28b7-763d-4ae9-8289-4e2ad7f6a434",
   "metadata": {},
   "outputs": [],
   "source": [
    "employee1 = Employee(\"Aditya Singh\", 23, 110000, \"Male\")"
   ]
  },
  {
   "cell_type": "code",
   "execution_count": 55,
   "id": "29a2ea16-8a59-4981-8978-a7aff0c56c48",
   "metadata": {},
   "outputs": [
    {
     "name": "stdout",
     "output_type": "stream",
     "text": [
      "Name: Aditya Singh\n",
      "Age: 23\n",
      "Salary: 110000\n",
      "Gender: Male\n"
     ]
    }
   ],
   "source": [
    "employee1.show_employee_details()"
   ]
  },
  {
   "cell_type": "code",
   "execution_count": 56,
   "id": "b0cb0dc2-88cd-4064-94d9-61fbbecfcaec",
   "metadata": {},
   "outputs": [],
   "source": [
    "employee2 = Employee(\"Vineet Singh\", 24, 97500, \"Cursive\")"
   ]
  },
  {
   "cell_type": "code",
   "execution_count": 57,
   "id": "a2c62ad0-5370-4ec7-96a7-9fba64037d89",
   "metadata": {},
   "outputs": [
    {
     "name": "stdout",
     "output_type": "stream",
     "text": [
      "Name: Vineet Singh\n",
      "Age: 24\n",
      "Salary: 97500\n",
      "Gender: Cursive\n"
     ]
    }
   ],
   "source": [
    "employee2.show_employee_details()"
   ]
  },
  {
   "cell_type": "code",
   "execution_count": 66,
   "id": "7792ea2a-78d1-4340-9a4d-4bce1295e6f9",
   "metadata": {},
   "outputs": [],
   "source": [
    "##########             INHERITANCE IN PYTHON                    ############"
   ]
  },
  {
   "cell_type": "code",
   "execution_count": 11,
   "id": "f99a31fc-8670-4eb7-b964-877965d9907f",
   "metadata": {},
   "outputs": [
    {
     "name": "stdout",
     "output_type": "stream",
     "text": [
      "Name: Alice, Salary: $5000\n",
      "Total Compensation: $6000\n",
      "\n",
      "Name: Bob, Salary: $0\n",
      "Calculated Salary: $1600\n",
      "\n",
      "Name: Charlie, Salary: $500\n"
     ]
    }
   ],
   "source": [
    "# In a company, you have different types of employees:\n",
    "\n",
    "# 1) FullTimeEmployee\n",
    "# 2) PartTimeEmployee\n",
    "# 3) Intern\n",
    "\n",
    "# All employees have a name and salary, but:\n",
    "\n",
    "# Full-time employees get bonuses.\n",
    "# Part-time employees are paid hourly.\n",
    "# Interns receive stipends.\n",
    "\n",
    "# Base Class\n",
    "class Employee:\n",
    "    def __init__(self, name, salary):\n",
    "        self.name = name\n",
    "        self.salary = salary\n",
    "\n",
    "    def get_details(self):\n",
    "        print(f\"Name: {self.name}, Salary: ${self.salary}\")\n",
    "\n",
    "\n",
    "\n",
    "# Python automatically determines the correct order using MRO (Method Resolution Order).\n",
    "# If you don’t use super(), it can cause duplicate initializations or errors.\n",
    "        \n",
    "\n",
    "# Derived Classes\n",
    "class FullTimeEmployee(Employee):\n",
    "    def __init__(self, name, salary, bonus):\n",
    "        super().__init__(name, salary)\n",
    "        self.bonus = bonus\n",
    "\n",
    "    def total_compensation(self):\n",
    "        return self.salary + self.bonus\n",
    "\n",
    "class PartTimeEmployee(Employee):\n",
    "    def __init__(self, name, hourly_rate, hours_worked):\n",
    "        super().__init__(name, 0)  # Salary will be calculated\n",
    "        self.hourly_rate = hourly_rate\n",
    "        self.hours_worked = hours_worked\n",
    "\n",
    "    def calculate_salary(self):\n",
    "        return self.hourly_rate * self.hours_worked\n",
    "\n",
    "# Intern Class\n",
    "class Intern(Employee):\n",
    "    def __init__(self, name, stipend):\n",
    "        super().__init__(name, stipend)\n",
    "\n",
    "\n",
    "\n",
    "\n",
    "# Using the classes\n",
    "ft_employee = FullTimeEmployee(\"Alice\", 5000, 1000)\n",
    "pt_employee = PartTimeEmployee(\"Bob\", 20, 80)\n",
    "intern = Intern(\"Charlie\", 500)\n",
    "\n",
    "ft_employee.get_details()\n",
    "print(f\"Total Compensation: ${ft_employee.total_compensation()}\\n\")\n",
    "\n",
    "pt_employee.get_details()\n",
    "print(f\"Calculated Salary: ${pt_employee.calculate_salary()}\\n\")\n",
    "\n",
    "intern.get_details()"
   ]
  },
  {
   "cell_type": "code",
   "execution_count": null,
   "id": "aa6cf95b-1bc4-4b19-9d50-1ba3aa4b420b",
   "metadata": {},
   "outputs": [],
   "source": [
    "############################            MULTIPLE INHERITANCE"
   ]
  },
  {
   "cell_type": "code",
   "execution_count": 15,
   "id": "f908c5a0-ff9b-412c-8487-daaa0a08fe23",
   "metadata": {},
   "outputs": [
    {
     "name": "stdout",
     "output_type": "stream",
     "text": [
      "A initialized\n",
      "C initialized\n",
      "E initialized\n",
      "B initialized\n",
      "D initialized\n"
     ]
    }
   ],
   "source": [
    "class A:\n",
    "    def __init__(self):\n",
    "        print(\"A initialized\")\n",
    "\n",
    "class B(A):\n",
    "    def __init__(self):\n",
    "        super().__init__()\n",
    "        print(\"B initialized\")\n",
    "\n",
    "class C(A):\n",
    "    def __init__(self):\n",
    "        super().__init__()\n",
    "        print(\"C initialized\")\n",
    "\n",
    "class E(A):\n",
    "    def __init__(self):\n",
    "        super().__init__()\n",
    "        print(\"E initialized\")\n",
    "\n",
    "class D(B, E, C):\n",
    "    def __init__(self):\n",
    "        super().__init__()\n",
    "        print(\"D initialized\")\n",
    "\n",
    "d = D()\n",
    "\n",
    "\n",
    "# The order A → C → E → B → D is determined by Python's Method Resolution Order (MRO), \n",
    "# which follows the C3 Linearization algorithm."
   ]
  },
  {
   "cell_type": "code",
   "execution_count": null,
   "id": "6051bc1e-7a3f-48c7-90f5-ebbf5cd4e740",
   "metadata": {},
   "outputs": [],
   "source": []
  }
 ],
 "metadata": {
  "kernelspec": {
   "display_name": "Python 3 (ipykernel)",
   "language": "python",
   "name": "python3"
  },
  "language_info": {
   "codemirror_mode": {
    "name": "ipython",
    "version": 3
   },
   "file_extension": ".py",
   "mimetype": "text/x-python",
   "name": "python",
   "nbconvert_exporter": "python",
   "pygments_lexer": "ipython3",
   "version": "3.10.11"
  }
 },
 "nbformat": 4,
 "nbformat_minor": 5
}
