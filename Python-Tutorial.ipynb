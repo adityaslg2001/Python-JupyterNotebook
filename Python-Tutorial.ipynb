{
 "cells": [
  {
   "cell_type": "code",
   "execution_count": 1,
   "id": "3ec64dae-f8b6-472f-85c1-c74db0c11c36",
   "metadata": {},
   "outputs": [
    {
     "name": "stdout",
     "output_type": "stream",
     "text": [
      "Hello World\n"
     ]
    }
   ],
   "source": [
    "print('Hello World')"
   ]
  },
  {
   "cell_type": "code",
   "execution_count": 4,
   "id": "e3fe3267-5453-4638-8809-00956cf10af1",
   "metadata": {},
   "outputs": [
    {
     "name": "stdout",
     "output_type": "stream",
     "text": [
      "Ronaldo\n",
      "Messi\n"
     ]
    }
   ],
   "source": [
    "student = \"Ronaldo\"\n",
    "print(student)\n",
    "student = \"Messi\"\n",
    "print(student)"
   ]
  },
  {
   "cell_type": "code",
   "execution_count": 7,
   "id": "69500f99-8cc1-43e1-8723-eda333306bb9",
   "metadata": {},
   "outputs": [
    {
     "name": "stdout",
     "output_type": "stream",
     "text": [
      "(3+4j)\n"
     ]
    },
    {
     "data": {
      "text/plain": [
       "complex"
      ]
     },
     "execution_count": 7,
     "metadata": {},
     "output_type": "execute_result"
    }
   ],
   "source": [
    "c=3+4j\n",
    "print(c)\n",
    "type(c)"
   ]
  },
  {
   "cell_type": "code",
   "execution_count": null,
   "id": "a027b882-f55e-47a7-b4c2-866592aba534",
   "metadata": {},
   "outputs": [],
   "source": [
    "#string functions in python\n"
   ]
  },
  {
   "cell_type": "code",
   "execution_count": 34,
   "id": "b9f82181-9410-4169-846d-b1c39f5ce313",
   "metadata": {},
   "outputs": [
    {
     "name": "stdout",
     "output_type": "stream",
     "text": [
      "['Hello', 'my', 'name', 'is', 'Aditya']\n",
      "['Aditya', 'is', 'name', 'my', 'Hello']\n"
     ]
    }
   ],
   "source": [
    "str=\"Hello my name is Aditya\"\n",
    "arr=str.split(' ')\n",
    "rev=arr[::-1]\n",
    "print(arr)\n",
    "print(rev)\n",
    "# x=range (len(arr)-1, -1, -1)\n",
    "# for i in x:\n",
    "#     print(arr[i])\n"
   ]
  },
  {
   "cell_type": "code",
   "execution_count": null,
   "id": "144ec990-68d2-4fc7-b62f-95d846a08bb2",
   "metadata": {},
   "outputs": [],
   "source": [
    "#Tuples are immutable \n"
   ]
  },
  {
   "cell_type": "code",
   "execution_count": 39,
   "id": "980ce09a-4bc9-47ac-bf47-faee523982cd",
   "metadata": {},
   "outputs": [
    {
     "name": "stdout",
     "output_type": "stream",
     "text": [
      "(1, 2, 3, 4, 5)\n",
      "(6, 7, 8, 9)\n",
      "(1, 2, 3, 4, 5, 6, 7, 8, 9)\n",
      "(1, 2, 3, 4, 5, 1, 2, 3, 4, 5, 1, 2, 3, 4, 5, 6, 7, 8, 9)\n",
      "(1, 2, 3, 4, 5)\n"
     ]
    }
   ],
   "source": [
    "tup1=(1,2,3,4,5)\n",
    "tup2=(6,7,8,9)\n",
    "print(tup1)\n",
    "print(tup2)\n",
    "print(tup1+tup2)\n",
    "print(tup1*3+tup2)\n",
    "tup2=tup1\n",
    "print(tup2)"
   ]
  },
  {
   "cell_type": "code",
   "execution_count": 53,
   "id": "df0fb10a-d7f9-47b3-bcc6-116486a97b34",
   "metadata": {},
   "outputs": [
    {
     "data": {
      "text/plain": [
       "[[4, 5, 6], (5, 8.5), 3, 2, 1]"
      ]
     },
     "execution_count": 53,
     "metadata": {},
     "output_type": "execute_result"
    }
   ],
   "source": [
    "#Lists\n",
    "list1=[1,2,3]\n",
    "list1[1:3]\n",
    "list2=[4,5,6]\n",
    "list1.append((5,8.5))\n",
    "list1.append(list2)"
   ]
  },
  {
   "cell_type": "code",
   "execution_count": 55,
   "id": "fd109b3c-f527-4657-8f02-a3b56b13874c",
   "metadata": {},
   "outputs": [
    {
     "name": "stdout",
     "output_type": "stream",
     "text": [
      "[[4, 5, 6], (5, 8.5), 3, 2, 1]\n",
      "[1, 2, 3, (5, 8.5), [4, 5, 6]]\n"
     ]
    }
   ],
   "source": [
    "print(list1)\n",
    "list1.reverse()\n",
    "print(list1)"
   ]
  },
  {
   "cell_type": "code",
   "execution_count": 85,
   "id": "fa8bad49-7e9d-4296-94d4-fa817c10cc1e",
   "metadata": {},
   "outputs": [
    {
     "name": "stdout",
     "output_type": "stream",
     "text": [
      "dick\n"
     ]
    },
    {
     "data": {
      "text/plain": [
       "{'Japple': '100', 'Specg': 6400}"
      ]
     },
     "execution_count": 85,
     "metadata": {},
     "output_type": "execute_result"
    }
   ],
   "source": [
    "#Dictionary\n",
    "fruits = {'Japple':60,'Specg':80}\n",
    "types=type(fruits)\n",
    "types=\"dict\"\n",
    "types=types.replace('t','k');\n",
    "print(types)\n",
    "fruits['Japple']='100'\n",
    "if(fruits['Specg']==80):\n",
    "    fruits['Specg']*=80\n",
    "fruits"
   ]
  },
  {
   "cell_type": "code",
   "execution_count": 83,
   "id": "4df63fe5-e256-4515-86af-1d7fce7460b0",
   "metadata": {},
   "outputs": [
    {
     "data": {
      "text/plain": [
       "dict_keys(['Japple', 'Specg'])"
      ]
     },
     "execution_count": 83,
     "metadata": {},
     "output_type": "execute_result"
    }
   ],
   "source": [
    "fruits.keys()"
   ]
  },
  {
   "cell_type": "code",
   "execution_count": 84,
   "id": "009ac3ce-92bd-4528-8d13-610015dabe87",
   "metadata": {},
   "outputs": [
    {
     "data": {
      "text/plain": [
       "dict_values(['100', 80])"
      ]
     },
     "execution_count": 84,
     "metadata": {},
     "output_type": "execute_result"
    }
   ],
   "source": [
    "fruits.values()"
   ]
  },
  {
   "cell_type": "code",
   "execution_count": null,
   "id": "7c7780ac-a6ca-47aa-ae1b-ef5b0d2a7dc9",
   "metadata": {},
   "outputs": [],
   "source": [
    "#Set "
   ]
  },
  {
   "cell_type": "code",
   "execution_count": 90,
   "id": "0afa65ba-5333-490e-81d0-5cbd162a9ca2",
   "metadata": {},
   "outputs": [
    {
     "data": {
      "text/plain": [
       "{'a': [1, 2, 3, 4, 5], 'b': [1, 2, 3, 4, 5], 'c': [1, 2, 3, 4, 5]}"
      ]
     },
     "execution_count": 90,
     "metadata": {},
     "output_type": "execute_result"
    }
   ],
   "source": [
    " #dictionary of val,list\n",
    "\n",
    "arr1=[1,2,3,4,5]\n",
    "arr2=['a','b','c']\n",
    "dict1={}\n",
    "\n",
    "for i in arr2:\n",
    "    dict1[i]=[]\n",
    "    for j in arr1:\n",
    "        dict1[i].append(j)\n",
    "\n",
    "dict1"
   ]
  },
  {
   "cell_type": "code",
   "execution_count": 91,
   "id": "34305eb1-39df-4542-b574-63c073eeab12",
   "metadata": {},
   "outputs": [
    {
     "data": {
      "text/plain": [
       "6859"
      ]
     },
     "execution_count": 91,
     "metadata": {},
     "output_type": "execute_result"
    }
   ],
   "source": [
    "#Lambda Functions\n",
    "\n",
    "lam = lambda x:x*x*x\n",
    "lam(19)"
   ]
  },
  {
   "cell_type": "code",
   "execution_count": 98,
   "id": "8652b88b-7270-4451-8909-07fa264db22d",
   "metadata": {},
   "outputs": [
    {
     "data": {
      "text/plain": [
       "[1, 3, 5, 7, 9]"
      ]
     },
     "execution_count": 98,
     "metadata": {},
     "output_type": "execute_result"
    }
   ],
   "source": [
    "#Lambda with filter function\n",
    "\n",
    "list1 = [1,2,3,4,5,6,7,8,9,10]\n",
    "\n",
    "list2=list(filter(lambda x:x%2!=0, list1))\n",
    "\n",
    "list2 "
   ]
  },
  {
   "cell_type": "code",
   "execution_count": 101,
   "id": "afae5208-1c51-4e81-9584-b2c82ed3abbf",
   "metadata": {},
   "outputs": [
    {
     "data": {
      "text/plain": [
       "[2, 4, 6, 8, 10, 12, 14, 16, 18, 20]"
      ]
     },
     "execution_count": 101,
     "metadata": {},
     "output_type": "execute_result"
    }
   ],
   "source": [
    "#Lambda with map function\n",
    "\n",
    "list1 = [1,2,3,4,5,6,7,8,9,10]\n",
    "\n",
    "list2 = list(map(lambda x:x*2,list1))\n",
    "\n",
    "list2"
   ]
  },
  {
   "cell_type": "code",
   "execution_count": 103,
   "id": "83028970-adfe-4c4c-af66-11099468e97e",
   "metadata": {},
   "outputs": [
    {
     "data": {
      "text/plain": [
       "55"
      ]
     },
     "execution_count": 103,
     "metadata": {},
     "output_type": "execute_result"
    }
   ],
   "source": [
    "#Lambda with reduce\n",
    "\n",
    "from functools import reduce\n",
    "\n",
    "sum=reduce(lambda x,y: x+y,list1)\n",
    "sum"
   ]
  },
  {
   "cell_type": "code",
   "execution_count": null,
   "id": "83c6ccb6-8203-4b60-92d0-b45756c04dd8",
   "metadata": {},
   "outputs": [],
   "source": []
  }
 ],
 "metadata": {
  "kernelspec": {
   "display_name": "Python 3 (ipykernel)",
   "language": "python",
   "name": "python3"
  },
  "language_info": {
   "codemirror_mode": {
    "name": "ipython",
    "version": 3
   },
   "file_extension": ".py",
   "mimetype": "text/x-python",
   "name": "python",
   "nbconvert_exporter": "python",
   "pygments_lexer": "ipython3",
   "version": "3.10.11"
  }
 },
 "nbformat": 4,
 "nbformat_minor": 5
}
